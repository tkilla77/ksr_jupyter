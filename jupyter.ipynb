{
 "cells": [
  {
   "cell_type": "markdown",
   "metadata": {},
   "source": [
    "# Jupyter Notebooks\n",
    "\n",
    "Jupyter notebooks allow you to mix code (e.g. python) and documentation about what you are doing (as markdown).\n",
    "\n",
    "We will use jupyter for our exploring of machine learning, specifically of q-learning, hidden markov models, and reinforcement learning. So, you better familiarize yourself a bit with what you can do with jupyter notebooks.\n",
    "\n",
    "The goal for today is to learn how to use a notebook to execute python code, and markdown to document how things work."
   ]
  },
  {
   "cell_type": "code",
   "execution_count": 3,
   "metadata": {},
   "outputs": [
    {
     "name": "stdout",
     "output_type": "stream",
     "text": [
      "50.26548245743669\n"
     ]
    }
   ],
   "source": [
    "import math\n",
    "\n",
    "def circle_area(diameter):\n",
    "    radius = diameter / 2\n",
    "    area = radius ** 2 * math.pi\n",
    "    return area\n",
    "\n",
    "print(circle_area(8))"
   ]
  },
  {
   "cell_type": "code",
   "execution_count": null,
   "metadata": {},
   "outputs": [],
   "source": []
  }
 ],
 "metadata": {
  "interpreter": {
   "hash": "decd2c030e4ffd63976cab7182a67855f2b4ef0b39318e2079d2cca848dd8792"
  },
  "kernelspec": {
   "display_name": "Python 3.9.5 ('base')",
   "language": "python",
   "name": "python3"
  },
  "language_info": {
   "codemirror_mode": {
    "name": "ipython",
    "version": 3
   },
   "file_extension": ".py",
   "mimetype": "text/x-python",
   "name": "python",
   "nbconvert_exporter": "python",
   "pygments_lexer": "ipython3",
   "version": "3.9.5"
  },
  "orig_nbformat": 4
 },
 "nbformat": 4,
 "nbformat_minor": 2
}
